{
 "cells": [
  {
   "cell_type": "markdown",
   "id": "3775908f-ca36-4846-8f38-5adca39217f2",
   "metadata": {
    "collapsed": false,
    "name": "AI_SQL"
   },
   "source": [
    "# Cortex AISQL: Reimagining SQL into AI Query Language for Multimodal Data\n"
   ]
  },
  {
   "cell_type": "code",
   "execution_count": null,
   "id": "8d50cbf4-0c8d-4950-86cb-114990437ac9",
   "metadata": {
    "codeCollapsed": true,
    "collapsed": false,
    "language": "python",
    "name": "Import_Libraries"
   },
   "outputs": [],
   "source": [
    "import streamlit as st\n",
    "import pandas as pd\n",
    "import snowflake_extras\n",
    "import altair as alt\n",
    "from snowflake.snowpark.context import get_active_session\n",
    "\n",
    "session = get_active_session()"
   ]
  },
  {
   "cell_type": "markdown",
   "id": "c695373e-ac74-4b62-a1f1-08206cbd5c81",
   "metadata": {
    "collapsed": false,
    "name": "Consolidate_Data"
   },
   "source": [
    "## Identify Customer Issues Across Text, Image, and Audio Data Formats\n",
    "\n",
    "* Text: Support Emails \n",
    "* Images: Bug Reports\n",
    "* Audio: Customer Call Reporting\n",
    "\n",
    "Using same SQL operators, seamlessly working across all modalities\n",
    "\n",
    "*Function used: AI_COMPLETE()*"
   ]
  },
  {
   "cell_type": "code",
   "execution_count": null,
   "id": "ad92b418-2a63-47db-b892-64755b545ae1",
   "metadata": {
    "language": "python",
    "name": "Multimodal_Prompts"
   },
   "outputs": [],
   "source": [
    "TEXT_PROMPT = \"\"\"\n",
    "Summarize this issue shown in this screenshot in one concise sentence. \n",
    "If the user mentioned anything related to music preference, please keep that information: {0}\n",
    "\"\"\"\n",
    "TEXT_MODEL = 'claude-3-7-sonnet'\n",
    "\n",
    "AUDIO_PROMPT = \"\"\"\n",
    "Summarize this issue discussed in this phone call in one concise sentence.\n",
    "If the user mentioned anything related to music preference, please keep that information: {0}\n",
    "\"\"\"\n",
    "AUDIO_MODEL = 'cortex-audio'\n",
    "\n",
    "IMAGE_PROMPT = \"\"\"\n",
    "Summarize this issue shown in this screenshot in one concise sentence: {0}\n",
    "\"\"\"\n",
    "IMAGE_MODEL = 'pixtral-large'"
   ]
  },
  {
   "cell_type": "code",
   "execution_count": null,
   "id": "a96d6ed7-5803-44ba-b117-146d14c42c49",
   "metadata": {
    "language": "sql",
    "name": "AI_COMPLETE"
   },
   "outputs": [],
   "source": [
    "create table if not exists insights as\n",
    "with EMAIL_INSIGHTS as (\n",
    "    select created_at,user_id,ticket_id::text as ticket_id,NULL::FILE as input_file,'' as input_file_url,content as content,\n",
    "        AI_COMPLETE('{{TEXT_MODEL}}', prompt('{{TEXT_PROMPT}}', content)) as summary\n",
    "    from email_cleaned_v2\n",
    "    ),\n",
    "    AUDIO_INSIGHTS as (\n",
    "    select created_at,user_id,relative_path as ticket_id,audio_file as input_file,file_url as input_file_url, \n",
    "        AI_COMPLETE('{{AUDIO_MODEL}}', prompt('{{AUDIO_PROMPT}}', audio_file)) as summary, summary as content\n",
    "    from voicemail_table\n",
    "    ),\n",
    "    IMAGE_INSIGHTS as (\n",
    "    select created_at,user_id,relative_path as ticket_id,img_file as input_file,file_url as input_file_url,\n",
    "        AI_COMPLETE('{{IMAGE_MODEL}}', prompt('{{IMAGE_PROMPT}}', img_file)) as summary, summary as content\n",
    "    from screenshot_table\n",
    "    )\n",
    "\n",
    "select 'Email' as source, created_at, user_id, ticket_id, input_file, input_file_url, content, summary \n",
    "from EMAIL_INSIGHTS\n",
    "    union\n",
    "select 'Voicemail' as source, created_at, user_id, ticket_id, input_file, input_file_url, content, summary \n",
    "from AUDIO_INSIGHTS\n",
    "    union\n",
    "select 'Image' as source, created_at, user_id, ticket_id, input_file, input_file_url, content, summary \n",
    "from IMAGE_INSIGHTS;"
   ]
  },
  {
   "cell_type": "markdown",
   "id": "6f68e60c-2036-43ac-b3d0-f2c143d1b573",
   "metadata": {
    "collapsed": false,
    "name": "Consolidated_Data"
   },
   "source": [
    "## Consolidated Data Across Text, Image, and Audio Data Formats\n",
    "\n",
    "Native FILE datatype to allow consolidating all formats into one table"
   ]
  },
  {
   "cell_type": "code",
   "execution_count": null,
   "id": "e69ddeca-5bfe-4eb6-973a-fff908ee6b1a",
   "metadata": {
    "language": "sql",
    "name": "Preview_Data"
   },
   "outputs": [],
   "source": [
    "select \n",
    "    user_id, source, input_file, summary, content, input_file_url \n",
    "from insights\n",
    "order by input_file_url desc;"
   ]
  },
  {
   "cell_type": "markdown",
   "id": "2abffa8c-02c3-4d18-8f56-e68deee54a54",
   "metadata": {
    "collapsed": false,
    "name": "SC_Articles"
   },
   "source": [
    "## Semantically JOIN Issues with Solutions Library\n",
    "\n",
    "Efficiently \"JOIN\" customer issues with existing solutions upon an AI relationship\n",
    "\n",
    "*Function used: ... JOIN ... ON AI_FILTER()*"
   ]
  },
  {
   "cell_type": "code",
   "execution_count": null,
   "id": "ea2f1921-2baa-4c9f-9f9a-6f4b6754c77d",
   "metadata": {
    "language": "sql",
    "name": "AI_FILTER"
   },
   "outputs": [],
   "source": [
    "select \n",
    "    c.created_at,\n",
    "    c.content as customer_issue,\n",
    "    s.solution\n",
    "from\n",
    "    INSIGHTS c\n",
    "left join\n",
    "    SOLUTION_CENTER_ARTICLES s\n",
    "on AI_FILTER(prompt('You are provided a customer issue and a solution center article. Please check if the solution article can address customer concerns. Reminder to check if the error details are matching. Customer issues: {0}; \\n\\nSolution: {1}', content, s.solution))\n",
    "order by created_at asc;"
   ]
  },
  {
   "cell_type": "markdown",
   "id": "465155ef-a79a-4b9b-8f00-c2a04a25cf68",
   "metadata": {
    "collapsed": false,
    "name": "Aggregate"
   },
   "source": [
    "## Aggregate Top Pain Points By Month\n",
    "\n",
    "Get aggregated insights across multiple rows\n",
    "\n",
    "*Function used: AI_AGG()*"
   ]
  },
  {
   "cell_type": "code",
   "execution_count": null,
   "id": "064f58f0-1d74-4af7-9246-19d263c2ed68",
   "metadata": {
    "language": "python",
    "name": "AI_AGG"
   },
   "outputs": [],
   "source": [
    "AGGREGATE_PROMPT = \"\"\"\n",
    "Analyze all the support ticket reviews and provide a comprehensive list of all issues mentioned. \n",
    "Format your response as a bulleted list of issues with their approximate frequency in percentage.\n",
    "\"\"\"\n",
    "\n",
    "sql = f\"\"\"\n",
    "select \n",
    "    monthname(created_at) as month, \n",
    "    count(*) as total_tickets,\n",
    "    count(distinct user_id) as unique_users,\n",
    "    AI_AGG(summary,'{AGGREGATE_PROMPT}') as top_issues_reported,\n",
    "    from (select * from insights order by random() limit 200)\n",
    "    group by month\n",
    "    order by total_tickets desc,month desc\n",
    "\"\"\"\n",
    "\n",
    "df = session.sql(sql).to_pandas()\n",
    "rows_to_display = 1\n",
    "for row in df[:rows_to_display].itertuples():\n",
    "    st.write(f\"Aggregated Insights for `{row.MONTH}`\")\n",
    "    st.caption(f\"Total Tickets: {row.TOTAL_TICKETS} | Unique Users: {row.UNIQUE_USERS}\")\n",
    "    st.caption(f\"Top Issues:\")\n",
    "    st.markdown(row.TOP_ISSUES_REPORTED)\n",
    "    st.divider()\n",
    "\n",
    "df_long = df.melt(id_vars='MONTH', value_vars=['TOTAL_TICKETS', 'UNIQUE_USERS'],\n",
    "                  var_name='Metric', value_name='Total')\n",
    "\n",
    "chart = alt.Chart(df_long).mark_bar().encode(\n",
    "    y=alt.Y('MONTH:N', sort='-x'),\n",
    "    x=alt.X('Total:Q'),\n",
    "    color=alt.Color('Metric:N', scale=alt.Scale(scheme='tableau10')),\n",
    "    tooltip=['MONTH', 'Metric', 'Total']\n",
    ").properties(height=300)\n",
    "\n",
    "st.altair_chart(chart, use_container_width=True)"
   ]
  },
  {
   "cell_type": "markdown",
   "id": "69e0f9ac-78de-4e3e-a34e-16f889249079",
   "metadata": {
    "collapsed": false,
    "name": "Classify"
   },
   "source": [
    "## Classification\n",
    "\n",
    "Build classification of labels that can be used in downstream applications. For example, to train ML models.\n",
    "\n",
    "*Function used: AI_CLASSIFY()*"
   ]
  },
  {
   "cell_type": "code",
   "execution_count": null,
   "id": "a35f424e-d4b2-4c04-87c0-9b4217af7a47",
   "metadata": {
    "language": "sql",
    "name": "AI_CLASSIFY"
   },
   "outputs": [],
   "source": [
    "SET FILTER_PROMPT = '\n",
    "I am trying to find if the customer has mentioned any music genre perference in their comment. \n",
    "Does this comment mentioning specific music genre preference from the customer?: {0}';\n",
    "\n",
    "SET CLASSIFY_PROMPT = 'Please help me classify the music preference mentioned in this comment: ';\n",
    "SET MUSIC_GENRES = 'Electronic/Dance Music (EDM), Jazz, Indie/Folk, Rock, Classical, World Music, Blues, Pop';\n",
    "SET MODEL = 'claude-3-5-sonnet';\n",
    "\n",
    "create table if not exists filtered as \n",
    "select * from \n",
    "        (select * from insights order by random() limit 500)\n",
    "    where AI_FILTER(prompt($FILTER_PROMPT, summary), {'model': $MODEL});\n",
    "\n",
    "select \n",
    "    source, \n",
    "    summary,\n",
    "    AI_CLASSIFY($CLASSIFY_PROMPT || summary,SPLIT($MUSIC_GENRES, ','))['labels'][0] as classified_label\n",
    "from filtered;"
   ]
  },
  {
   "cell_type": "code",
   "execution_count": null,
   "id": "0ec19e23-c505-4d02-aee0-ae832eeca0b5",
   "metadata": {
    "language": "python",
    "name": "Classify_Chart"
   },
   "outputs": [],
   "source": [
    "df = AI_CLASSIFY.to_pandas()\n",
    "\n",
    "# Group by genre and calculate counts\n",
    "genre_counts = df['CLASSIFIED_LABEL'].value_counts().reset_index()\n",
    "genre_counts.columns = ['Genre', 'Count']\n",
    "\n",
    "# Pie chart using Altair\n",
    "chart = alt.Chart(genre_counts).mark_arc().encode(\n",
    "    theta=alt.Theta(field='Count', type='quantitative'),\n",
    "    color=alt.Color(field='Genre', type='nominal'),\n",
    "    tooltip=['Genre', 'Count']\n",
    ").properties(\n",
    "    width=500,\n",
    "    height=400\n",
    ")\n",
    "\n",
    "st.subheader('Distribution of Genres')\n",
    "st.altair_chart(chart, use_container_width=True)"
   ]
  }
 ],
 "metadata": {
  "kernelspec": {
   "display_name": "Streamlit Notebook",
   "name": "streamlit"
  },
  "lastEditStatus": {
   "authorEmail": "dash.desai@snowflake.com",
   "authorId": "3327659305255",
   "authorName": "DASH",
   "lastEditTime": 1748027644486,
   "notebookId": "zkf7ak43tputw2dbmsr3",
   "sessionId": "5d43b7a6-11cd-4200-a08e-735815e06026"
  }
 },
 "nbformat": 4,
 "nbformat_minor": 5
}
